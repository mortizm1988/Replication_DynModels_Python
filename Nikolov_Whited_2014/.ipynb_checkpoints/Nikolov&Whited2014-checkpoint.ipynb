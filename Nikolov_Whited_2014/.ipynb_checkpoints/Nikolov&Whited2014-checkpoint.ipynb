{
 "cells": [
  {
   "cell_type": "markdown",
   "id": "8ee036d0",
   "metadata": {},
   "source": [
    "# Replication: Agency Conflicts and Cash: Estimates from a Dynamic Model\n",
    "Author: Marcelo Ortiz (UPF & BSE).\n",
    "\n",
    "This code replicates the main results in Nikolov & Whited (2014).\n",
    "\n",
    "TO DO:\n",
    "    (1) Figure 2: why capital depreciation δ reduces cash holding? in the original paper the relation is positive.\n",
    "\n",
    "\n",
    "## List of Parameters:\n",
    "     α,             # manager bonus\n",
    "     β,             # manager equity share\n",
    "     s,             # manager private benefit\n",
    "     δ,             # capital depreciation\n",
    "     λ,             # cost of issuing equity\n",
    "     a,             # capital adjustment cost\n",
    "     θ,             # curvature production function\n",
    "     τ,             # corporate tax rate\n",
    "     r,             # interest rate\n",
    "     ϕ,             # cost of external finance\n",
    "     dimz,          # dim of shock\n",
    "     μ,             # log mean of AR process\n",
    "     σ,             # s.d. deviation of innovation shocks\n",
    "     ρ,             # persistence of AR process\n",
    "     stdbound,      # standard deviation of AR process (set to 2)\n",
    "     dimk,          # dimension of k, only works with odd numbers\n",
    "     dimc,          # dimension of cash\n",
    "     dimkp,         # dimension of future k\n",
    "     dimcp):        # dimension of future cash\n",
    "## Packing:\n",
    "    α, β, s                         = param_manager     # Manager compensation\n",
    "    δ, λ, a, θ, τ                   = param_inv         # Investment parameters\n",
    "    r, ϕ                            = param_fin         # Financing Parameters                                       \n",
    "    μ, σ, ρ, stdbound               = param_ar          # AR Parameters\n",
    "    dimz, dimk, dimc, dimkp, dimcp  = param_dim         # dimensional Parameters"
   ]
  },
  {
   "cell_type": "markdown",
   "id": "64658bc1",
   "metadata": {},
   "source": [
    "# Import and Settings"
   ]
  },
  {
   "cell_type": "code",
   "execution_count": 1,
   "id": "79d452cd",
   "metadata": {},
   "outputs": [
    {
     "data": {
      "application/javascript": [
       "IPython.notebook.set_autosave_interval(0)"
      ]
     },
     "metadata": {},
     "output_type": "display_data"
    },
    {
     "name": "stdout",
     "output_type": "stream",
     "text": [
      "Autosave disabled\n"
     ]
    }
   ],
   "source": [
    "import math\n",
    "import numpy as np\n",
    "import numpy.typing as npt\n",
    "import quantecon as qe\n",
    "from numba import jit\n",
    "from multiprocessing import Pool\n",
    "from itertools import repeat\n",
    "import matplotlib.pyplot as plt\n",
    "from scipy.interpolate import interpn\n",
    "from time import time\n",
    "\n",
    "float_formatter = \"{:,.2f}\".format\n",
    "np.set_printoptions(formatter={'float_kind':float_formatter})\n",
    "%matplotlib inline\n",
    "%autosave 0\n",
    "    # start = time()\n",
    "    # your script here\n",
    "    # end = time()\n",
    "    # print(f'It took {end - start} seconds!')"
   ]
  },
  {
   "cell_type": "markdown",
   "id": "b42a5b8d",
   "metadata": {},
   "source": [
    "# 1. Replication of Optimal Policies (\"Figure 1\")"
   ]
  },
  {
   "cell_type": "markdown",
   "id": "eedeebed",
   "metadata": {},
   "source": [
    "## 1.1 Grids and Value iteration functions"
   ]
  },
  {
   "cell_type": "code",
   "execution_count": 2,
   "id": "d60410ba",
   "metadata": {
    "lines_to_next_cell": 1
   },
   "outputs": [],
   "source": [
    "def set_vec(param_inv,param_fin, param_dim, param_manager,z_vec):   \n",
    "    \"\"\"\n",
    "    Compute the vector of capital stock (around the steady-state) and cash (up to k steady state).\n",
    "    Dimension: k_vec=[dimk , 1]; idem for the rest.\n",
    "    \"\"\"\n",
    "    δ, _, a, θ, τ                = param_inv\n",
    "    r, _                         = param_fin\n",
    "    _, dimk, dimc, dimkp, dimcp  = param_dim\n",
    "    α, β, s                      = param_manager \n",
    "    #kstar = ((θ*(1-τ))/(r*(1+a*δ)-δ*τ+δ+0.5*a*δ**2))**(1/(1-θ))\n",
    "    #kstar = ((θ*(1-τ))/(r+δ))**(1/(1-θ))\n",
    "    #kstar=2083.6801320704803\n",
    "    k_min    = ((θ*(1-τ)*z_vec[0])/(r*(1+a*δ)-δ*τ+δ+0.5*a*δ**2))**(1/(1-θ)) # A guess for k_min?\n",
    "    k_max    = ((θ*(1-τ)*(np.mean(z_vec)+1.5*np.std(z_vec)))/(r*(1+a*δ)-δ*τ+δ+0.5*a*δ**2))**(1/(1-θ)) # A guess for k_max?\n",
    "    kstar  = 0.5*np.take((k_max-k_min)+k_min,0)\n",
    "    # Set up the vectors\n",
    "    \n",
    "    k_vec  = np.reshape(np.linspace(k_min, k_max,dimk),(dimk,1))\n",
    "    kp_vec = np.reshape(np.linspace(k_min, k_max,dimkp),(dimkp,1))\n",
    "    c_vec  = np.reshape(np.linspace(0.0, 0.5*k_max, dimc),(dimc,1))\n",
    "    cp_vec = np.reshape(np.linspace(0.0, 0.5*k_max, dimcp),(dimcp,1))\n",
    "   \n",
    "    grid_points=(np.reshape(k_vec,k_vec.size), np.reshape(c_vec,c_vec.size), np.reshape(z_vec,z_vec.size))\n",
    "    grid_to_interp=  [[np.take(kp,0), np.take(cp,0), np.take(z,0) ] for kp in kp_vec for cp in cp_vec for z in z_vec]\n",
    "    return  [k_vec, kp_vec, c_vec, cp_vec, kstar,grid_points,grid_to_interp]    \n",
    "\n",
    "def trans_matrix(param_ar,param_dim):\n",
    "    \"\"\"\n",
    "    Set the State vector for the productivity shocks Z and transition matrix.\n",
    "    Dimension: z_vec =[dimZ , 1]; z_prob_mat=[dimz , dimZ] // Remember, sum(z_prob_mat[i,:])=1.\n",
    "    \"\"\"\n",
    "    μ, σ, ρ, stdbound = param_ar\n",
    "    dimz, dimk,*_     = param_dim\n",
    "    \n",
    "    mc          = qe.markov.approximation.tauchen(ρ,σ,μ,stdbound,dimz)\n",
    "    z_vec       = mc.state_values\n",
    "    Pi          = mc.P\n",
    "    z_vec       = z_vec.reshape(dimz,1)\n",
    "    z_vec       = np.e**(z_vec)\n",
    "    z_prob_mat  = Pi.reshape(dimz,dimz)\n",
    "    return [z_vec, z_prob_mat]\n",
    "\n",
    "@jit(nopython=True,parallel=False)\n",
    "def rewards_grids(param_manager,param_inv, param_fin,param_dim,z_vec,k_vec,c_vec):\n",
    "    \"\"\"\n",
    "    Compute the manager's and shareholders' cash-flows  R and D, respectively, \n",
    "    for every (k_t, k_t+1, c_t, c_t+1) combination and every productivity shocks.\n",
    "    \"\"\"            \n",
    "    α, β, s                         = param_manager     # Manager compensation\n",
    "    δ, λ, a, θ, τ                   = param_inv         # Investment parameters\n",
    "    r, ϕ                            = param_fin         # Financing Parameters                                       \n",
    "    dimz, dimk, dimc, dimkp, dimcp  = param_dim         # dimensional Parameters                    \n",
    "    \n",
    "    R = np.zeros((dimk, dimkp, dimc, dimcp, dimz))\n",
    "    D = np.zeros((dimk, dimkp, dimc, dimcp, dimz))\n",
    "    inv:float\n",
    "    d:float\n",
    "    rw:float\n",
    "    kp:float\n",
    "    k:float\n",
    "    z:float\n",
    "    cp:float\n",
    "    c:float\n",
    "    print(\"Computing reward matrix \\n\")\n",
    "    for i_k in range(dimk):\n",
    "        for i_kp in range(dimkp):\n",
    "            for i_c in range(dimc):\n",
    "                for i_cp in range(dimcp):\n",
    "                    for i_z in range(dimz):\n",
    "                        kp  = np.take(kp_vec[i_kp],0)\n",
    "                        k   = np.take(k_vec[i_k],0)\n",
    "                        z   = np.take(z_vec[i_z],0)\n",
    "                        cp  = np.take(cp_vec[i_cp],0)\n",
    "                        c   = np.take(c_vec[i_c],0)\n",
    "                        inv = kp-(1-δ)*k                          \n",
    "                        d   = (1-τ)*(1-(α+s))*z*k**θ + δ*k*τ - inv - 0.5*a*((inv/k)**2)*k - cp + c*(1+r*(1-τ))*(1-s)        \n",
    "                        if d>=0:\n",
    "                            D[i_k, i_kp, i_c, i_cp, i_z] = d\n",
    "                        else:\n",
    "                            D[i_k, i_kp, i_c, i_cp, i_z] = d*(1+ϕ)\n",
    "                        rw                              = (α+s)*z*k**θ + s*c*(1+r) + β*D[i_k, i_kp, i_c, i_cp, i_z]   \n",
    "                        R[i_k, i_kp, i_c, i_cp, i_z]   = rw \n",
    "    print(\"Computing reward matrix - Done \\n\")                  \n",
    "    return [R, D]\n",
    "    \n",
    "#@jit(nopython=True,parallel=False)\n",
    "def continuation_value(param_dim:npt.ArrayLike,U:npt.ArrayLike,z_prob_mat:npt.ArrayLike,grid:npt.ArrayLike,grid_interp:npt.ArrayLike):\n",
    "    \"\"\"\n",
    "    Compute \"Continuation Value\" for every possible future state of nature (kp,cp,z).\n",
    "    The \"continuation value\" is defined as: E[U(kp,cp,zp)]=sum{U(kp,cp,zp)*Prob(zp,p)}\n",
    "    *** Pending improvements: matrix multiplication instead of double loop.\n",
    "    \"\"\"\n",
    "    dimz, dimk, dimc, dimkp, dimcp  = param_dim         # dimensional Parameters \n",
    "    cont_value=np.zeros((dimkp,dimcp,dimz))  \n",
    "    ztrans=np.transpose(z_prob_mat)\n",
    "    Uinter=interpn(grid, U, grid_interp)\n",
    "    Uinter=Uinter.reshape((dimkp,dimcp,dimz))\n",
    "    for ind_z in range(dimz):\n",
    "        for i_kpp in range(dimkp):\n",
    "            for i_cpp in range(dimcp):\n",
    "                cont_value[i_kpp,i_cpp,ind_z]= np.dot(ztrans[:,ind_z],Uinter[i_kpp,i_cpp,:])\n",
    "    return cont_value\n",
    "\n",
    "def bellman_operator(param_dim:npt.ArrayLike,param_fin:npt.ArrayLike,Upol:npt.ArrayLike,R:npt.ArrayLike,z_prob_mat:npt.ArrayLike,grid:npt.ArrayLike,grid_interp:npt.ArrayLike,i_kpol:npt.ArrayLike, i_cpol:npt.ArrayLike):\n",
    "    \"\"\"\n",
    "     Second, identify max policy and save it.\n",
    "     For each current state of nature (k,c,z), find the policy {kp,cp} that maximizes RHS: U(k,c,z) + E[U(kp,cp,zp)].\n",
    "     Once found it, update the value of U in this current state of nature with the one generated with the optimal policy\n",
    "     and save the respective optimal policy (kp,cp) for each state of nature (k,c,z).\n",
    "    *** Pending improvements: something faster than enumerate?\n",
    "    \"\"\"\n",
    "    dimz, dimk, dimc, dimkp, dimcp  = param_dim         # dimensional Parameters\n",
    "    r, _                            = param_fin \n",
    "    c_value                         = continuation_value(param_dim,Upol,z_prob_mat,grid,grid_interp)\n",
    "    RHS=np.empty((dimkp,dimcp))\n",
    "    for (i_z, z) in enumerate(z_vec):\n",
    "        for (i_k, k) in enumerate(k_vec):\n",
    "            for (i_c, c) in enumerate(c_vec):\n",
    "                RHS                 = R[i_k, :, i_c, :, i_z] + (1/(1+r))*c_value[:,:,i_z]\n",
    "                i_kc                = np.unravel_index(np.argmax(RHS,axis=None),RHS.shape)           # the index of the best expected value for each k,c,z combination.    \n",
    "                Upol[i_k, i_c, i_z]    = RHS[i_kc]                                       # update U with all the best expected values. \n",
    "                i_kpol[i_k, i_c, i_z] = i_kc[0]\n",
    "                i_cpol[i_k, i_c, i_z] = i_kc[1]\n",
    "    return [Upol,i_kpol,i_cpol ]\n",
    "\n",
    "def value_iteration(param_dim:npt.ArrayLike,param_fin:npt.ArrayLike,R:npt.ArrayLike,z_prob_mat:npt.ArrayLike,k_vec:npt.ArrayLike,c_vec:npt.ArrayLike,z_vec:npt.ArrayLike,kp_vec:npt.ArrayLike,cp_vec:npt.ArrayLike,grid_points,grid_to_interp,diff=1,tol=1e-6,imax=10_000):\n",
    "        \"\"\"\n",
    "        Value Iteration on Eq 6.\n",
    "        *** Pending improvements: why ndenumerate and not numerate?\n",
    "        \"\"\"\n",
    "        dimz, dimk, dimc, dimkp, dimcp  = param_dim \n",
    "        Upol    = np.zeros((dimk, dimc, dimz))\n",
    "        i_kpol = np.empty((dimk, dimc, dimz),dtype=float)\n",
    "        i_cpol = np.empty((dimk, dimc, dimz),dtype=float)            \n",
    "        \n",
    "        print(\"Iteration start \\n\")                   \n",
    "        for i in range(imax):\n",
    "            U_old          = np.copy(Upol)\n",
    "            [Upol,i_kpol,i_cpol ]= bellman_operator(param_dim,param_fin,Upol, R,z_prob_mat,grid_points,grid_to_interp, i_kpol, i_cpol)         \n",
    "            diff           = np.max(np.abs(Upol-U_old))\n",
    "            if i==1: \n",
    "                print(f\"Error at iteration {i} is {diff:,.2f}.\") \n",
    "            if i%300==0: \n",
    "                print(f\"Error at iteration {i} is {diff:,.2f}.\")           \n",
    "            if diff < tol:\n",
    "                print(f\"Solution found at iteration {i}.\")   \n",
    "                break\n",
    "            if i == imax:\n",
    "                print(\"Failed to converge!\")        \n",
    "        # Evaluating the optimal policies using the indexes obtained in the iterations.\n",
    "        Kpol=np.zeros((dimk, dimc, dimz))\n",
    "        Cpol=np.zeros((dimk, dimc, dimz))\n",
    "        for index,value in  np.ndenumerate(i_kpol):\n",
    "            index2=int(value)\n",
    "            Kpol[index]=kp_vec[index2]   \n",
    "        for index,value in  np.ndenumerate(i_cpol):\n",
    "            index2=int(value)\n",
    "            Cpol[index]=cp_vec[index2]\n",
    "            \n",
    "        return [Upol,Kpol,Cpol,i_kpol,i_cpol]"
   ]
  },
  {
   "cell_type": "markdown",
   "id": "0862bf89",
   "metadata": {},
   "source": [
    "## 1.2 Computation Optimal Policies "
   ]
  },
  {
   "cell_type": "code",
   "execution_count": 3,
   "id": "b3611fe1-6c2e-4b6e-a18a-6fd5a4d39804",
   "metadata": {},
   "outputs": [],
   "source": [
    "param_manager     = (0.751/100, 0.051, 0.101/1000) # (α, β, s) \n",
    "param_inv         = (0.13, 0, 1.278, 0.773 , 0.2)  # (δ, λ, a, θ, τ)   \n",
    "param_fin         = (0.011, 0.043)                 # (r, ϕ=0.043)\n",
    "param_ar          = (0, 0.262, 0.713, 4)           # (μ, σ, ρ, stdbound)\n",
    "_nk               = 2                             # intermediate points in the capital grid\n",
    "_nc               = 2                             # intermediate points in the cash grid\n",
    "(dimz, dimk, dimc)=(11,25,5)\n",
    "param_dim         = (dimz,dimk,dimc,dimk*_nk,dimc*_nc)         # wrapping dimensional parameters: (dimz, dimk, dimc, dimkp, dimcp)"
   ]
  },
  {
   "cell_type": "code",
   "execution_count": 4,
   "id": "d8a80f20-d2c6-41db-99c9-f49923174677",
   "metadata": {
    "lines_to_next_cell": 1,
    "tags": []
   },
   "outputs": [
    {
     "name": "stdout",
     "output_type": "stream",
     "text": [
      "Computing reward matrix \n",
      "\n",
      "Computing reward matrix - Done \n",
      "\n",
      "Iteration start \n",
      "\n",
      "Error at iteration 0 is 15,225.02.\n",
      "Error at iteration 1 is 2,532.48.\n",
      "Error at iteration 300 is 0.00.\n",
      "Error at iteration 600 is 0.00.\n",
      "Error at iteration 900 is 0.00.\n",
      "Solution found at iteration 1007.\n",
      "It took 23.18 seconds!\n"
     ]
    }
   ],
   "source": [
    "[z_vec, z_prob_mat]                  = trans_matrix(param_ar,param_dim)\n",
    "[k_vec, kp_vec, c_vec, cp_vec, kstar,grid_points,grid_to_interp]= set_vec(param_inv, param_fin, param_dim, param_manager,z_vec)\n",
    "[R, D]                               = rewards_grids(param_manager,param_inv, param_fin,param_dim,z_vec,k_vec,c_vec)\n",
    "start = time()\n",
    "[Up,Kp,Cp,i_kp,i_cp]                 = value_iteration(param_dim,param_fin,R,z_prob_mat,k_vec,c_vec,z_vec,kp_vec,cp_vec,grid_points,grid_to_interp)\n",
    "end = time()\n",
    "print(f'It took {(end - start):,.2f} seconds!')"
   ]
  },
  {
   "cell_type": "markdown",
   "id": "06cc3399",
   "metadata": {},
   "source": [
    "## 1.3 Ploting \"Figure 1\""
   ]
  },
  {
   "cell_type": "code",
   "execution_count": 5,
   "id": "acd38c68",
   "metadata": {},
   "outputs": [],
   "source": [
    "# Plotting Policy function\n",
    "def plot_policy_function(param_manager,param_inv,param_fin,param_dim,z_vec,k_vec,c_vec,Kp,Cp):\n",
    "    α, β, s                         = param_manager     # Manager compensation\n",
    "    δ, λ, a, θ, τ                   = param_inv         # Investment parameters\n",
    "    r, ϕ                            = param_fin         # Financing Parameters                                       \n",
    "    dimz, dimk, dimc, dimkp, dimcp  = param_dim         # dimensional Parameters\n",
    "    \n",
    "    I_p=np.empty((dimk, dimc,dimz))        \n",
    "    CRatio_P=np.empty((dimk,dimc,dimz))\n",
    "    CF_p=np.empty((dimk, dimc,dimz))\n",
    "    F_p=np.empty((dimk, dimc,dimz))\n",
    "    \n",
    "    for z in range(dimz):\n",
    "        for c in range(dimc):\n",
    "            for k in range(dimk):            \n",
    "                CF_p[k,c,z]       = ((1-τ)*z_vec[z]*k_vec[k]**θ)/k_vec[k]\n",
    "                I                 = (Kp[k,c,z]-(1-δ)*k_vec[k])\n",
    "                I_p[k,c,z]        = I/k_vec[k]\n",
    "                CRatio_P[k,c,z]   = Cp[k,c,z]/(c_vec[c]+k_vec[k])\n",
    "                d                 = (1-τ)*(1-(α+s))*z_vec[z]*k_vec[k]**θ + δ*k_vec[k]*τ - I  - 0.5*a*((I/k_vec[k])**2)*k_vec[k]  - Cp[k,c,z] +c_vec[c]*(1+r*(1-τ))*(1-s)\n",
    "                F_p[k,c,z]        = d/(c_vec[c]+k_vec[k]) if d>=0 else d*(1+ϕ)/(c_vec[c]+k_vec[k])  \n",
    "                 \n",
    "    [i_kstar, j_kstar] = np.unravel_index(np.argmin(np.abs(kstar-k_vec),axis=None),k_vec.shape)       #the plots are with kstar, for different levels of c and z    \n",
    "    logz=np.log(z_vec)\n",
    "    cmed_plot=math.floor(dimc/2)\n",
    "    \n",
    "    fig, (ax1,ax2,ax3, ax4) = plt.subplots(4,1,figsize=(15, 15))\n",
    "    ax1.plot(logz,CF_p[i_kstar,1,:] , label='Low Cash ratio',linestyle = 'dashed', c='b')\n",
    "    ax1.plot(logz,CF_p[i_kstar,cmed_plot,:] , label='Medium Cash ratio',linestyle = 'solid', c='b')\n",
    "    ax1.plot(logz,CF_p[i_kstar,dimc-1,:] , label='High Cash ratio',linestyle = 'dotted', c='b')\n",
    "    ax1.set_xlabel(\"Log productivity shock\")\n",
    "    ax1.set_ylabel(\"Cash Flow / Capital\")\n",
    "    ax1.legend()\n",
    "    \n",
    "    ax2.plot(logz,I_p[i_kstar,1,:] , label='Low Cash ratio',linestyle = 'dashed', c='b')\n",
    "    ax2.plot(logz,I_p[i_kstar,cmed_plot,:] , label='Medium Cash ratio',linestyle = 'solid', c='b')\n",
    "    ax2.plot(logz,I_p[i_kstar,dimc-1,:] , label='High Cash ratio',linestyle = 'dotted', c='b')\n",
    "    ax2.set_xlabel(\"Log productivity shock\")\n",
    "    ax2.set_ylabel(\"Investment / Capital\")\n",
    "    #ax2.legend()\n",
    "    #\n",
    "    ax3.plot(logz,CRatio_P[i_kstar,1,:] , label='Low Cash ratio',linestyle = 'dashed', c='b')\n",
    "    ax3.plot(logz,CRatio_P[i_kstar,cmed_plot,:] , label='Medium Cash ratio',linestyle = 'solid', c='b')\n",
    "    ax3.plot(logz,CRatio_P[i_kstar,dimc-1,:] , label='High Cash ratio',linestyle = 'dotted', c='b')\n",
    "    ax3.set_xlabel(\"Log productivity shock\")\n",
    "    ax3.set_ylabel(\"Cash / Assets\")\n",
    "    #ax3.legend()\n",
    "    \n",
    "    ax4.plot(logz,F_p[i_kstar,1,:] , label='Low Cash ratio',linestyle = 'dashed', c='b')\n",
    "    ax4.plot(logz,F_p[i_kstar,cmed_plot,:] , label='Medium Cash ratio',linestyle = 'solid', c='b')\n",
    "    ax4.plot(logz,F_p[i_kstar,dimc-1,:] , label='High Cash ratio',linestyle = 'dotted', c='b')\n",
    "    ax4.set_xlabel(\"Log productivity shock\")\n",
    "    ax4.set_ylabel(\"External FIn / Assets\")\n",
    "    #ax4.legend()\n",
    "    \n",
    "    plt.show()\n",
    "    fig.savefig(\"Figure1.png\", bbox_inches='tight', dpi=600)"
   ]
  },
  {
   "cell_type": "code",
   "execution_count": 6,
   "id": "9fb11c04",
   "metadata": {},
   "outputs": [
    {
     "data": {
      "image/png": "[encoded data removed]",
      "text/plain": [
       "<Figure size 1080x1080 with 4 Axes>"
      ]
     },
     "metadata": {
      "needs_background": "light"
     },
     "output_type": "display_data"
    }
   ],
   "source": [
    "plot_policy_function(param_manager,param_inv,param_fin,param_dim,z_vec,k_vec,c_vec,Kp,Cp)"
   ]
  },
  {
   "cell_type": "markdown",
   "id": "3a3ac8c0",
   "metadata": {},
   "source": [
    "# 2. Replication of Comparative Statistics (\"Figure 2\")"
   ]
  },
  {
   "cell_type": "markdown",
   "id": "5f16dadf",
   "metadata": {},
   "source": [
    "## 2.1 Simulation function"
   ]
  },
  {
   "cell_type": "code",
   "execution_count": 7,
   "id": "4b16ffcd",
   "metadata": {
    "lines_to_next_cell": 2
   },
   "outputs": [],
   "source": [
    "def model_sim(sim_z,kstar ,kp_vec, cp_vec, Kp, Cp, N, Ttot,Terg=200):\n",
    "        \"\"\"\n",
    "        # Model simulation.\n",
    "        \"\"\"\n",
    "        Ksim = np.zeros((Ttot, N))\n",
    "        Csim = np.zeros((Ttot, N))\n",
    "        # the simulations start with the value of the central element in k_vec and c_vec,\n",
    "        Ksim[0, :]=kstar*np.ones((1, N))\n",
    "        # interpolations\n",
    "        points=(np.reshape(k_vec,k_vec.size), np.reshape(c_vec,c_vec.size), np.reshape(z_vec,z_vec.size))\n",
    "        for n in range(N):\n",
    "             for t in range(1,Ttot):\n",
    "                 # if Ksim[t-1, n]  < k_vec[0][0]:\n",
    "                 #     Ksim[t-1, n] = k_vec[0][0]\n",
    "                 #     previus_state=[Ksim[t-1, n],Csim[t-1, n],sim_z[t-1,n]]                     \n",
    "                 #     Ksim[t, n]=interpn(points, Kp, previus_state)\n",
    "                 #     Csim[t, n]=interpn(points, Cp, previus_state)\n",
    "                 # elif Ksim[t-1, n]  > k_vec[-1][0]:\n",
    "                 #    Ksim[t-1, n] = k_vec[-1][0]\n",
    "                 #    previus_state=[Ksim[t-1, n],Csim[t-1, n],sim_z[t-1,n]]                     \n",
    "                 #    Ksim[t, n]=interpn(points, Kp, previus_state)\n",
    "                 #    Csim[t, n]=interpn(points, Cp, previus_state)\n",
    "                 # else:\n",
    "                 previus_state=[Ksim[t-1, n],Csim[t-1, n],sim_z[t-1,n]]\n",
    "                 Ksim[t, n]=interpn(points, Kp, previus_state)\n",
    "                 Csim[t, n]=interpn(points, Cp, previus_state)\n",
    "                 \n",
    "        # Remove the burning period\n",
    "        Ksim = Ksim[(Terg+1):-1, :]\n",
    "        Csim = Csim[(Terg+1):-1, :]   \n",
    "        \n",
    "        \n",
    "        print()\n",
    "        print(\"Quick simulation check: p lb, min(psim), max(psim), p ub \\n\")\n",
    "        print(f\"K = {k_vec[0]} {np.min(Ksim):,.2f} {np.max(Ksim):,.2f} {k_vec[-1]} \\n\")\n",
    "        print(f\"C = {c_vec[0]} {np.min(Csim):,.2f} {np.max(Csim):,.2f} {c_vec[-1]} \\n\")\n",
    "        print()\n",
    "       \n",
    "        return [Ksim, Csim]"
   ]
  },
  {
   "cell_type": "markdown",
   "id": "c0477475",
   "metadata": {},
   "source": [
    "Fast check of simulation boundaries:"
   ]
  },
  {
   "cell_type": "code",
   "execution_count": 8,
   "id": "14a85e4a",
   "metadata": {
    "lines_to_next_cell": 1
   },
   "outputs": [
    {
     "name": "stdout",
     "output_type": "stream",
     "text": [
      "\n",
      "Quick simulation check: p lb, min(psim), max(psim), p ub \n",
      "\n",
      "K = [1.44] 1.44 7.97 [254,775.11] \n",
      "\n",
      "C = [0.00] 0.00 0.00 [127,387.56] \n",
      "\n",
      "\n"
     ]
    }
   ],
   "source": [
    "N                =1\n",
    "Ttot             =1_000\n",
    "mc               = qe.MarkovChain(z_prob_mat)\n",
    "E                = mc.simulate(ts_length=Ttot,num_reps=N).T\n",
    "sim_z            = z_vec[E].reshape((Ttot, N))\n",
    "[sim_K, sim_C]   = model_sim(sim_z,kstar,kp_vec, cp_vec, Kp, Cp,N, Ttot)"
   ]
  },
  {
   "cell_type": "markdown",
   "id": "791f3851",
   "metadata": {},
   "source": [
    "## 2.2 Computation comparative statistics\n",
    "The output of this cell is quite long since it shows some prints for the value iteration process and then more prints to check whether the simulations are touching the borders of the grids.\n",
    "\n",
    "To see the figure, scroll down to the bottom."
   ]
  },
  {
   "cell_type": "code",
   "execution_count": 9,
   "id": "e9725091",
   "metadata": {
    "lines_to_next_cell": 0
   },
   "outputs": [],
   "source": [
    "def run_comparative_stats(variable,param_iter):\n",
    "    print(\"load parameters\")\n",
    "    param_manager     = (0.751/100, 0.051, 0.101/1000) # (α, β, s) \n",
    "    param_inv         = (0.130, 0, 1.278, 0.773 , 0.2) # (δ, λ, a, θ, τ)   \n",
    "    param_fin         = (0.011, 0.043)                 # (r, ϕ=0.043)\n",
    "    param_ar          = (0, 0.262, 0.713, 4)           # (μ, σ, ρ, stdbound)\n",
    "    _nk               = 2                              # intermediate points in the capital grid\n",
    "    _nc               = 2                              # intermediate points in the cash grid\n",
    "    (dimz, dimk, dimc)=(11,25,5)\n",
    "    param_dim         = (dimz,dimk,dimc,dimk*_nk,dimc*_nc)         # wrapping dimensional parameters: (dimz, dimk, dimc, dimkp, dimcp)\n",
    "    print(\"load parameter for iteration\")\n",
    "    if variable =='ϕ':\n",
    "        param_fin                   = (0.011, param_iter)                 # (r, ϕ)\n",
    "    elif variable=='θ':     \n",
    "        param_inv                   = (0.130, 0, 1.278, param_iter, 0.2)  # (δ, λ, a, θ, τ)\n",
    "    elif variable=='a':     \n",
    "        param_inv                   = (0.130, 0, param_iter, 0.773 , 0.2) # (δ, λ, a, θ, τ)\n",
    "    elif variable=='δ':     \n",
    "        param_inv                   = (param_iter, 0, 1.278, 0.773 , 0.2)  # (δ, λ, a, θ, τ)\n",
    "    elif variable=='σ':\n",
    "        param_ar                    = (0, param_iter, 0.713, 4)           # (μ, σ, ρ, stdbound)\n",
    "    elif variable=='ρ':\n",
    "        param_ar                    = (0, 0.262, param_iter, 4)           # (μ, σ, ρ, stdbound)\n",
    "    elif variable=='α':\n",
    "        param_manager               = (param_iter,0.051, 0.101/1000)      # (α, β, s)\n",
    "    elif variable=='s':\n",
    "        param_manager               = (0.751/100,0.051, param_iter)       # (α, β, s)\n",
    "    elif variable=='β':\n",
    "        param_manager               = (0.751/100,param_iter, 0.101/1000)  # (α, β, s)      \n",
    "    else:\n",
    "        print(\"not known variable\")\n",
    "        breakpoint()\n",
    "        \n",
    "    [z_vec, z_prob_mat]                  = trans_matrix(param_ar,param_dim)   \n",
    "    [k_vec, kp_vec, c_vec, cp_vec, kstar,grid_points,grid_to_interp]= set_vec(param_inv, param_fin, param_dim, param_manager,z_vec)\n",
    "    [R, D]                               = rewards_grids(param_manager,param_inv, param_fin,param_dim,z_vec,k_vec,c_vec)   \n",
    "    [Upol,Kpol,Cpol,i_kpol,i_cpol]       = value_iteration(param_dim,param_fin,R,z_prob_mat,k_vec,c_vec,z_vec,kp_vec,cp_vec,grid_points,grid_to_interp)\n",
    "    mc2                                 = qe.MarkovChain(z_prob_mat)\n",
    "    E2                                  = mc2.simulate(ts_length=Ttot,num_reps=N).T    \n",
    "    sim_z2                              = z_vec[E2].reshape((Ttot, N))       \n",
    "    [sim_K, sim_C]   = model_sim(sim_z2,kstar,kp_vec, cp_vec, Kpol, Cpol,N, Ttot)\n",
    "    sim_Cratio                           = sim_C/(sim_K+sim_C)       \n",
    "    sim_Cratio_av                        = np.mean(sim_Cratio)\n",
    "    print(f\"average cash ratio {variable}= {param_iter}: {sim_Cratio_av}\")\n",
    "    return sim_Cratio_av"
   ]
  },
  {
   "cell_type": "markdown",
   "id": "b62b0c6f",
   "metadata": {},
   "source": [
    "## Testing comparative statistics function. Here is where it fails"
   ]
  },
  {
   "cell_type": "code",
   "execution_count": 10,
   "id": "67b0bd5d-fec4-4513-9563-32920b0effd4",
   "metadata": {},
   "outputs": [
    {
     "name": "stdout",
     "output_type": "stream",
     "text": [
      "load parameters\n",
      "load parameter for iteration\n",
      "Computing reward matrix \n",
      "\n",
      "Computing reward matrix - Done \n",
      "\n",
      "Iteration start \n",
      "\n",
      "Error at iteration 0 is 15,225.02.\n",
      "Error at iteration 1 is 2,532.48.\n",
      "Error at iteration 300 is 0.00.\n",
      "Error at iteration 600 is 0.00.\n",
      "Error at iteration 900 is 0.00.\n",
      "Solution found at iteration 1007.\n",
      "\n",
      "Quick simulation check: p lb, min(psim), max(psim), p ub \n",
      "\n",
      "K = [1.44] 1.44 1.44 [254,775.11] \n",
      "\n",
      "C = [0.00] 0.00 0.00 [127,387.56] \n",
      "\n",
      "\n",
      "average cash ratio ϕ= 0.25: 0.0\n"
     ]
    }
   ],
   "source": [
    "output=run_comparative_stats('ϕ',0.25)"
   ]
  },
  {
   "cell_type": "markdown",
   "id": "8aed8cf4",
   "metadata": {},
   "source": [
    "## Now, setting up the parallel processing."
   ]
  },
  {
   "cell_type": "code",
   "execution_count": 14,
   "id": "f074a943",
   "metadata": {
    "tags": []
   },
   "outputs": [],
   "source": [
    "num_values_per_param=2\n",
    "\n",
    "# Financing parameters\n",
    "ϕ_vec = np.linspace(0.0,0.25,num_values_per_param) \n",
    "# Investment parameters\n",
    "θ_vec = np.linspace(0.5,0.9,num_values_per_param) \n",
    "a_vec = np.linspace(0,1.5,num_values_per_param) \n",
    "δ_vec = np.linspace(0.05,0.2,num_values_per_param) \n",
    "# Manager parameters\n",
    "β_vec = np.linspace(0.01,0.1,num_values_per_param) \n",
    "α_vec = np.linspace(0,0.01,num_values_per_param) \n",
    "s_vec = np.linspace(0,0.02/100,num_values_per_param)\n",
    "# AR parameters\n",
    "σ_vec = np.linspace(0.1,0.5,num_values_per_param)  \n",
    "ρ_vec = np.linspace(0.5,0.75,num_values_per_param)"
   ]
  },
  {
   "cell_type": "code",
   "execution_count": null,
   "id": "399de912",
   "metadata": {
    "tags": []
   },
   "outputs": [
    {
     "name": "stdout",
     "output_type": "stream",
     "text": [
      "First column of plots: ϕ θ β\n"
     ]
    }
   ],
   "source": [
    "print(\"First column of plots: ϕ θ β\")\n",
    "with Pool() as pool:\n",
    "    com_stat_cash = pool.starmap(run_comparative_stats, zip(repeat('ϕ'),ϕ_vec))     \n",
    "with Pool() as pool2:\n",
    "    com_stat_cash2 = pool2.starmap(run_comparative_stats, zip(repeat('θ'),θ_vec))  \n",
    "with Pool() as pool3:\n",
    "    com_stat_cash3 = pool3.starmap(run_comparative_stats, zip(repeat('β'),β_vec))   \n",
    "\n",
    "print(\"Second column of plots: σ a α\")\n",
    "with Pool() as pool4:\n",
    "    com_stat_cash4 = pool4.starmap(run_comparative_stats, zip(repeat('σ'),σ_vec))   \n",
    "with Pool() as pool5:\n",
    "    com_stat_cash5 = pool5.starmap(run_comparative_stats, zip(repeat('a'),a_vec))   \n",
    "with Pool() as pool6:\n",
    "    com_stat_cash6 = pool6.starmap(run_comparative_stats, zip(repeat('α'),α_vec))  \n",
    "\n",
    "print(\"Third column of plots: ρ δ s\")\n",
    "with Pool() as pool7:\n",
    "    com_stat_cash7 = pool7.starmap(run_comparative_stats, zip(repeat('ρ'),ρ_vec)) \n",
    "with Pool() as pool8:\n",
    "    com_stat_cash8 = pool8.starmap(run_comparative_stats, zip(repeat('δ'),δ_vec)) # problem: opposite slope\n",
    "with Pool() as pool9:\n",
    "    com_stat_cash9 = pool9.starmap(run_comparative_stats, zip(repeat('s'),s_vec)) "
   ]
  },
  {
   "cell_type": "markdown",
   "id": "d9936791",
   "metadata": {
    "lines_to_next_cell": 2
   },
   "source": []
  },
  {
   "cell_type": "code",
   "execution_count": null,
   "id": "60aeafa2",
   "metadata": {
    "lines_to_next_cell": 3,
    "title": "2.3 Plotting \"Figure 2\""
   },
   "outputs": [],
   "source": [
    "F2=fig, ((ax1, ax4, ax7), (ax2, ax5, ax8), (ax3, ax6, ax9)) = plt.subplots(3,3,sharey=True,figsize=(15, 15))\n",
    "ax1.plot(ϕ_vec,com_stat_cash ,linestyle = 'dashed', c='b')\n",
    "ax1.set_xlabel(\"ϕ\")\n",
    "ax2.plot(θ_vec,com_stat_cash2 ,linestyle = 'dashed', c='b')\n",
    "ax2.set_xlabel(\"θ\")\n",
    "ax3.plot(β_vec,com_stat_cash3 ,linestyle = 'dashed', c='b')\n",
    "ax3.set_xlabel(\"β\")\n",
    "ax4.plot(σ_vec,com_stat_cash4 ,linestyle = 'dashed', c='b')\n",
    "ax4.set_xlabel(\"σ\")\n",
    "ax5.plot(a_vec,com_stat_cash5 ,linestyle = 'dashed', c='b')\n",
    "ax5.set_xlabel(\"a\")\n",
    "ax6.plot(α_vec,com_stat_cash6 ,linestyle = 'dashed', c='b')\n",
    "ax6.set_xlabel(\"α\")\n",
    "ax7.plot(ρ_vec,com_stat_cash7 ,linestyle = 'dashed', c='b')\n",
    "ax7.set_xlabel(\"ρ\")\n",
    "ax8.plot(δ_vec,com_stat_cash8 ,linestyle = 'dashed', c='b')\n",
    "ax8.set_xlabel(\"δ\")\n",
    "ax9.plot(s_vec,com_stat_cash9 ,linestyle = 'dashed', c='b')\n",
    "ax9.set_xlabel(\"s\")\n",
    "plt.show()\n",
    "fig.savefig(\"Figure2.png\", bbox_inches='tight', dpi=600)\n",
    "# -\n",
    "\n"
   ]
  },
  {
   "cell_type": "code",
   "execution_count": 1,
   "id": "61c6c572-f2b0-4495-a6dd-3c02754db79b",
   "metadata": {},
   "outputs": [
    {
     "name": "stdout",
     "output_type": "stream",
     "text": [
      "[NbConvertApp] Converting notebook Nikolov&Whited2014.ipynb to html\n",
      "[NbConvertApp] Writing 680353 bytes to Nikolov&Whited2014.html\n"
     ]
    }
   ],
   "source": [
    "!jupyter nbconvert  \"Nikolov&Whited2014.ipynb\" --to html"
   ]
  },
  {
   "cell_type": "code",
   "execution_count": null,
   "id": "677db058-f312-4f08-8de1-7499f977e8cb",
   "metadata": {},
   "outputs": [],
   "source": []
  }
 ],
 "metadata": {
  "jupytext": {
   "formats": "ipynb,py:percent"
  },
  "kernelspec": {
   "display_name": "Python 3",
   "language": "python",
   "name": "python3"
  },
  "language_info": {
   "codemirror_mode": {
    "name": "ipython",
    "version": 3
   },
   "file_extension": ".py",
   "mimetype": "text/x-python",
   "name": "python",
   "nbconvert_exporter": "python",
   "pygments_lexer": "ipython3",
   "version": "3.8.8"
  }
 },
 "nbformat": 4,
 "nbformat_minor": 5
}
